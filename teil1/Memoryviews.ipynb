{
 "cells": [
  {
   "cell_type": "markdown",
   "metadata": {},
   "source": [
    "# Memoryviews\n",
    "\n",
    "In diesem kleinem Notebook demonstrieren wir, wie wir dank *Typed Memoryviews* sehr effizient auf `np.array`s zugreifen können."
   ]
  },
  {
   "cell_type": "code",
   "execution_count": null,
   "metadata": {},
   "outputs": [],
   "source": [
    "%load_ext cython"
   ]
  },
  {
   "cell_type": "code",
   "execution_count": null,
   "metadata": {},
   "outputs": [],
   "source": [
    "import numpy as np"
   ]
  },
  {
   "cell_type": "markdown",
   "metadata": {},
   "source": [
    "### Ohne Memoryview"
   ]
  },
  {
   "cell_type": "code",
   "execution_count": null,
   "metadata": {},
   "outputs": [],
   "source": [
    "%%cython -a\n",
    "def myfunk(A, int N):\n",
    "    for i in range(N):\n",
    "        if A[i] > 0:\n",
    "            pass"
   ]
  },
  {
   "cell_type": "markdown",
   "metadata": {},
   "source": [
    "### Mit Memoryview"
   ]
  },
  {
   "cell_type": "code",
   "execution_count": null,
   "metadata": {},
   "outputs": [],
   "source": [
    "%%cython -a\n",
    "def myfunk(double[:] A, int N):\n",
    "    for i in range(N):\n",
    "        if A[i] > 0:\n",
    "            pass"
   ]
  },
  {
   "cell_type": "markdown",
   "metadata": {},
   "source": [
    "### Compilerdirectives"
   ]
  },
  {
   "cell_type": "markdown",
   "metadata": {
    "jupyter": {
     "source_hidden": true
    }
   },
   "source": [
    "Schreiben wir in der ersten Zeile\n",
    "\n",
    "``` python\n",
    "#cython: boundscheck=False, wraparound=False\n",
    "```\n",
    "\n",
    "dann gelten die Directives für **alle** Funktion innerhalb der *Cell*. Möchte man\n",
    "die Directives nur für eine einzelne Funktion setzen, kann man Funktionsdekoratoren\n",
    "verwenden:"
   ]
  },
  {
   "cell_type": "code",
   "execution_count": null,
   "metadata": {
    "jupyter": {
     "source_hidden": true
    }
   },
   "outputs": [],
   "source": [
    "%%cython -a \n",
    "\n",
    "from cython cimport wraparound, boundscheck\n",
    "\n",
    "@wraparound(False)\n",
    "@boundscheck(False)\n",
    "def myfunk(double[:] A, int N):\n",
    "    for i in range(N):\n",
    "        if A[i] > 0:\n",
    "            pass"
   ]
  }
 ],
 "metadata": {
  "kernelspec": {
   "display_name": "Python 3",
   "language": "python",
   "name": "python3"
  },
  "language_info": {
   "codemirror_mode": {
    "name": "ipython",
    "version": 3
   },
   "file_extension": ".py",
   "mimetype": "text/x-python",
   "name": "python",
   "nbconvert_exporter": "python",
   "pygments_lexer": "ipython3",
   "version": "3.8.6"
  }
 },
 "nbformat": 4,
 "nbformat_minor": 4
}
