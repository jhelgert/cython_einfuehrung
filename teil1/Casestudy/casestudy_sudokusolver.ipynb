{
 "cells": [
  {
   "cell_type": "markdown",
   "metadata": {},
   "source": [
    "# Casestudy: Sudokusolver \n",
    "\n",
    "In dieser Casestudy wollen wir mit Hilfe von Cython einen Sudokusolver beschleunigen."
   ]
  },
  {
   "cell_type": "markdown",
   "metadata": {},
   "source": [
    "## Python 🐌\n",
    "\n",
    "Das hier ist die Ausgangsimplementierung, welche wir letztlich bestmöglich beschleunigen möchten:"
   ]
  },
  {
   "cell_type": "code",
   "execution_count": null,
   "metadata": {},
   "outputs": [],
   "source": [
    "def solver_py(puzzle):\n",
    "    row, col = find_empty_cell(puzzle)\n",
    "    if row == -1 or col == -1:\n",
    "        return True\n",
    "\n",
    "    for num in range(1,10):\n",
    "        if valid(puzzle, num, (row, col)):\n",
    "            puzzle[row, col] = num\n",
    "            if solver_py(puzzle):\n",
    "                return True\n",
    "            else:\n",
    "                puzzle[row, col] = 0\n",
    "    return False\n",
    "\n",
    "def find_empty_cell(puzzle):\n",
    "    for i in range(puzzle.shape[0]):\n",
    "        for j in range(puzzle.shape[0]):\n",
    "            if puzzle[i, j] == 0:\n",
    "                return (i, j)\n",
    "    return (-1, -1)\n",
    "\n",
    "def valid(puzzle, num, pos):\n",
    "    # Check row and column\n",
    "    for k in range(puzzle.shape[0]):\n",
    "        if puzzle[pos[0], k] == num or puzzle[k, pos[1]] == num:\n",
    "            return False\n",
    "    # Check Box\n",
    "    bx, by = 3*(pos[1] // 3), 3*(pos[0] // 3)\n",
    "    for i in range(by, by+3):\n",
    "        for j in range(bx, bx+3):\n",
    "            if puzzle[i, j] == num:\n",
    "                return False\n",
    "    return True"
   ]
  },
  {
   "cell_type": "code",
   "execution_count": null,
   "metadata": {},
   "outputs": [],
   "source": [
    "import numpy as np\n",
    "S = np.loadtxt(\"worlds_hardest.txt\", dtype=np.int32)"
   ]
  },
  {
   "cell_type": "code",
   "execution_count": null,
   "metadata": {},
   "outputs": [],
   "source": [
    "def solve_py(S):\n",
    "    puzzle = S.copy()\n",
    "    if solver(puzzle):\n",
    "        return puzzle"
   ]
  },
  {
   "cell_type": "markdown",
   "metadata": {},
   "source": [
    "\n",
    "\n",
    "**Aufgabe**: Time den obigen Pythoncode bzw. die Funktion `solvepy`.\n",
    "\n"
   ]
  },
  {
   "cell_type": "code",
   "execution_count": null,
   "metadata": {},
   "outputs": [],
   "source": []
  },
  {
   "cell_type": "markdown",
   "metadata": {},
   "source": [
    "**Aufgabe:** *Profile* den obigen Pythoncode mit Hilfe des line_profilers um die laufzeitkritischen Stellen des Codes zu finden. Profile lediglich die Funktion `solver_py` bzw. den Aufruf `solver_py(S.copy())`."
   ]
  },
  {
   "cell_type": "code",
   "execution_count": null,
   "metadata": {},
   "outputs": [],
   "source": [
    "%load_ext line_profiler"
   ]
  },
  {
   "cell_type": "code",
   "execution_count": null,
   "metadata": {},
   "outputs": [],
   "source": []
  },
  {
   "cell_type": "markdown",
   "metadata": {},
   "source": [
    "## Python + Numpy\n",
    "\n",
    "Als erste Lösung schreiben wir den obigen Code mit Hilfe von numpy wie folgt um:"
   ]
  },
  {
   "cell_type": "code",
   "execution_count": null,
   "metadata": {},
   "outputs": [],
   "source": [
    "def solver_numpy(puzzle):\n",
    "    row, col = find_empty_cell_numpy(puzzle)\n",
    "    if row == -1 or col == -1:\n",
    "        return True\n",
    "\n",
    "    for num in range(1,10):\n",
    "        if valid_numpy(puzzle, num, (row, col)):\n",
    "            puzzle[row, col] = num\n",
    "            if solver_numpy(puzzle):\n",
    "                return True\n",
    "            else:\n",
    "                puzzle[row, col] = 0\n",
    "    return False\n",
    "\n",
    "def find_empty_cell_numpy(puzzle):\n",
    "    empty_pos = np.argwhere(puzzle == 0)\n",
    "    if empty_pos.size > 0:\n",
    "        return empty_pos[0]\n",
    "    return (-1, -1)\n",
    "\n",
    "def valid_numpy(puzzle, num, pos):\n",
    "    # Check row and column\n",
    "    if np.where((puzzle[pos[0], :] == num) | (puzzle[:, pos[1]] == num))[0].size >= 1:\n",
    "        return False\n",
    "    # Check box\n",
    "    bx, by = 3*(pos[1] // 3), 3*(pos[0] // 3)\n",
    "    if np.where(puzzle[by:by+3, bx:bx+3] == num)[0].size >= 1:\n",
    "        return False\n",
    "    return True"
   ]
  },
  {
   "cell_type": "code",
   "execution_count": null,
   "metadata": {},
   "outputs": [],
   "source": [
    "def solve_numpy(S):\n",
    "    puzzle = S.copy()\n",
    "    if solver_numpy(puzzle):\n",
    "        return puzzle"
   ]
  },
  {
   "cell_type": "markdown",
   "metadata": {},
   "source": [
    "**Aufgabe**: Time und profile diese Implementierung. Beim profilen analog zu oben `solver_numpy` bzw. `solver_numpy(S.copy())` profilen. Warum hält sich der Speedup im Vergleich zur Pythonimplementierung in Grenzen?"
   ]
  },
  {
   "cell_type": "code",
   "execution_count": null,
   "metadata": {},
   "outputs": [],
   "source": []
  },
  {
   "cell_type": "code",
   "execution_count": null,
   "metadata": {},
   "outputs": [],
   "source": []
  },
  {
   "cell_type": "markdown",
   "metadata": {},
   "source": []
  },
  {
   "cell_type": "markdown",
   "metadata": {},
   "source": [
    "## Cython 🚀\n",
    "\n",
    "**Aufgabe:** \n",
    "\n",
    "- Beschleunige den ursprünglichen Pythoncode (nicht die numpy Implementierung) bestmöglich mit Cython (ohne threadbasierte Parallelisierung). \n",
    "- Kompiliere den Code stets mit `-a` um Stellen mit Pythonoverhead zu erkennen. \n",
    "- Verwende eine neue Funktion `solve_cy`.\n",
    "- Time deinen Code letztlich erneut und vergleiche den Speedup zu den bisherigen Implementierungen."
   ]
  },
  {
   "cell_type": "code",
   "execution_count": null,
   "metadata": {},
   "outputs": [],
   "source": [
    "%load_ext cython"
   ]
  },
  {
   "cell_type": "code",
   "execution_count": null,
   "metadata": {},
   "outputs": [],
   "source": []
  },
  {
   "cell_type": "code",
   "execution_count": null,
   "metadata": {},
   "outputs": [],
   "source": []
  },
  {
   "cell_type": "code",
   "execution_count": null,
   "metadata": {},
   "outputs": [],
   "source": []
  },
  {
   "cell_type": "markdown",
   "metadata": {},
   "source": [
    "# Endgegner\n",
    "\n",
    "**Aufgabe:** Nachdem wir unseren Solver hoffentlich ordentlich mit Cython beschleunigt haben, wollen wir ihn jetzt anhand eines **richtig** schwierigen Sudokus testen. Time deine `solve_cy` Funktion und schätze anhand des Speedups ab, wie lange die ursprüngliche Implementierung `solve_py` für dieses Sudoku benötigt hätte."
   ]
  },
  {
   "cell_type": "code",
   "execution_count": null,
   "metadata": {},
   "outputs": [],
   "source": [
    "Shard = np.loadtxt(\"backtracking_hard.txt\", dtype=np.int32)"
   ]
  },
  {
   "cell_type": "code",
   "execution_count": null,
   "metadata": {},
   "outputs": [],
   "source": []
  },
  {
   "cell_type": "markdown",
   "metadata": {},
   "source": []
  }
 ],
 "metadata": {
  "kernelspec": {
   "display_name": "Python 3",
   "language": "python",
   "name": "python3"
  },
  "language_info": {
   "codemirror_mode": {
    "name": "ipython",
    "version": 3
   },
   "file_extension": ".py",
   "mimetype": "text/x-python",
   "name": "python",
   "nbconvert_exporter": "python",
   "pygments_lexer": "ipython3",
   "version": "3.8.6"
  }
 },
 "nbformat": 4,
 "nbformat_minor": 4
}
