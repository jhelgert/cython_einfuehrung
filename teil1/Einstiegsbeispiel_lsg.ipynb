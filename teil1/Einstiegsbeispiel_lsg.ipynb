{
 "cells": [
  {
   "cell_type": "markdown",
   "metadata": {},
   "source": [
    "# Python 🐌"
   ]
  },
  {
   "cell_type": "code",
   "execution_count": 1,
   "metadata": {},
   "outputs": [],
   "source": [
    "# Python\n",
    "def count_triples1(N):\n",
    "    found = 0\n",
    "    for a in range(1, N+1):\n",
    "        for b in range(a+1, N+1):\n",
    "            for c in range(b+1, N+1):\n",
    "                if a*a + b*b == c*c:\n",
    "                    found += 1\n",
    "    return found"
   ]
  },
  {
   "cell_type": "code",
   "execution_count": 2,
   "metadata": {},
   "outputs": [
    {
     "name": "stdout",
     "output_type": "stream",
     "text": [
      "27.2 s ± 0 ns per loop (mean ± std. dev. of 1 run, 1 loop each)\n"
     ]
    }
   ],
   "source": [
    "# -r Anzahl der Runs\n",
    "# -n Anzahl der Wiederholungen pro run\n",
    "# -o gib ein Timeit-objekt zurück\n",
    "t1 = %timeit -o -r 1 -n 1 count_triples1(1000)"
   ]
  },
  {
   "cell_type": "markdown",
   "metadata": {},
   "source": [
    "# Cython 🚀"
   ]
  },
  {
   "cell_type": "code",
   "execution_count": 1,
   "metadata": {},
   "outputs": [],
   "source": [
    "%load_ext cython"
   ]
  },
  {
   "cell_type": "code",
   "execution_count": 2,
   "metadata": {},
   "outputs": [],
   "source": [
    "%%cython -f\n",
    "\n",
    "def count_triples2(N):\n",
    "    found = 0\n",
    "    for a in range(1, N+1):\n",
    "        for b in range(a+1, N+1):\n",
    "            for c in range(b+1, N+1):\n",
    "                if a*a + b*b == c*c:\n",
    "                    found += 1\n",
    "    return found"
   ]
  },
  {
   "cell_type": "code",
   "execution_count": 3,
   "metadata": {},
   "outputs": [
    {
     "name": "stdout",
     "output_type": "stream",
     "text": [
      "18.5 s ± 0 ns per loop (mean ± std. dev. of 1 run, 1 loop each)\n"
     ]
    }
   ],
   "source": [
    "t2 = %timeit -o -r 1 -n 1 count_triples2(1000)"
   ]
  },
  {
   "cell_type": "code",
   "execution_count": 4,
   "metadata": {},
   "outputs": [],
   "source": [
    "%%cython\n",
    "\n",
    "def count_triples3(int N):\n",
    "    cdef int found = 0\n",
    "    cdef int a,b,c\n",
    "    for a in range(1, N+1):\n",
    "        for b in range(a+1, N+1):\n",
    "            for c in range(b+1, N+1):\n",
    "                if a*a + b*b == c*c:\n",
    "                    found += 1\n",
    "    return found"
   ]
  },
  {
   "cell_type": "code",
   "execution_count": 5,
   "metadata": {},
   "outputs": [
    {
     "name": "stdout",
     "output_type": "stream",
     "text": [
      "26.4 ms ± 497 µs per loop (mean ± std. dev. of 7 runs, 10 loops each)\n"
     ]
    }
   ],
   "source": [
    "t3 = %timeit -o count_triples3(1000)"
   ]
  },
  {
   "cell_type": "code",
   "execution_count": 28,
   "metadata": {},
   "outputs": [
    {
     "name": "stdout",
     "output_type": "stream",
     "text": [
      "1335x Speedup\n"
     ]
    }
   ],
   "source": [
    "# Speedup gegenüber Python:\n",
    "print(f\"{t1.average / t3.average:0.0f}x Speedup\")"
   ]
  },
  {
   "cell_type": "markdown",
   "metadata": {
    "jupyter": {
     "outputs_hidden": true
    }
   },
   "source": [
    "# Extratuning\n",
    "\n",
    "Geht da noch mehr?"
   ]
  },
  {
   "cell_type": "markdown",
   "metadata": {
    "jupyter": {
     "outputs_hidden": true
    }
   },
   "source": [
    "## Compilerflags und Compilerdirectives"
   ]
  },
  {
   "cell_type": "code",
   "execution_count": 12,
   "metadata": {},
   "outputs": [],
   "source": [
    "# macOS only: Verwende gcc statt clang für aggressivere SIMD-Autovektorisierung\n",
    "import os\n",
    "os.environ['CC'] = 'gcc-10'"
   ]
  },
  {
   "cell_type": "code",
   "execution_count": 9,
   "metadata": {},
   "outputs": [],
   "source": [
    "%%cython -f -c=-O3 -c=-march=native\n",
    "\n",
    "def count_triples4(int N):\n",
    "    cdef int found = 0\n",
    "    cdef int a, b, c\n",
    "    for a in range(1, N+1):\n",
    "        for b in range(a+1, N+1):\n",
    "            for c in range(b+1, N+1):\n",
    "                if a*a + b*b == c*c:\n",
    "                    found += 1\n",
    "    return found"
   ]
  },
  {
   "cell_type": "code",
   "execution_count": 10,
   "metadata": {},
   "outputs": [
    {
     "name": "stdout",
     "output_type": "stream",
     "text": [
      "16.9 ms ± 361 µs per loop (mean ± std. dev. of 7 runs, 100 loops each)\n"
     ]
    }
   ],
   "source": [
    "t4 = %timeit -o count_triples4(1000)"
   ]
  },
  {
   "cell_type": "code",
   "execution_count": 11,
   "metadata": {},
   "outputs": [
    {
     "name": "stdout",
     "output_type": "stream",
     "text": [
      "10.6 s ± 0 ns per loop (mean ± std. dev. of 1 run, 1 loop each)\n"
     ]
    }
   ],
   "source": [
    "t4 = %timeit -o -r 1 -n 1 count_triples4(10000)"
   ]
  },
  {
   "cell_type": "markdown",
   "metadata": {
    "jupyter": {
     "outputs_hidden": true
    }
   },
   "source": [
    "## Parallelisierung"
   ]
  },
  {
   "cell_type": "code",
   "execution_count": 13,
   "metadata": {},
   "outputs": [],
   "source": [
    "%%cython -f -c=-O3 -c=-march=native -c=-fopenmp --link-args=-fopenmp\n",
    "\n",
    "from cython.parallel cimport prange\n",
    "\n",
    "def count_triples5(int N):\n",
    "    cdef int found = 0\n",
    "    cdef int a, b, c\n",
    "    for a in prange(1, N+1, nogil=True):\n",
    "        for b in range(a+1, N+1):\n",
    "            for c in range(b+1, N+1):\n",
    "                if a*a + b*b == c*c:\n",
    "                    found += 1\n",
    "    return found"
   ]
  },
  {
   "cell_type": "code",
   "execution_count": 14,
   "metadata": {},
   "outputs": [
    {
     "name": "stdout",
     "output_type": "stream",
     "text": [
      "3.66 s ± 0 ns per loop (mean ± std. dev. of 1 run, 1 loop each)\n"
     ]
    }
   ],
   "source": [
    "t5 = %timeit -o -r 1 -n 1 count_triples5(10000)"
   ]
  },
  {
   "cell_type": "code",
   "execution_count": 23,
   "metadata": {},
   "outputs": [],
   "source": [
    "%%cython -f -c=-O3 -c=-march=native -c=-fopenmp --link-args=-fopenmp\n",
    "\n",
    "from cython.parallel cimport prange\n",
    "\n",
    "def count_triples6(int N):\n",
    "    cdef int found = 0\n",
    "    cdef int a, b, c\n",
    "    for a in prange(1, N+1, nogil=True, schedule='static', chunksize=1):\n",
    "        for b in range(a+1, N+1):\n",
    "            for c in range(b+1, N+1):\n",
    "                if a*a + b*b == c*c:\n",
    "                    found += 1\n",
    "    return found"
   ]
  },
  {
   "cell_type": "code",
   "execution_count": 24,
   "metadata": {},
   "outputs": [
    {
     "name": "stdout",
     "output_type": "stream",
     "text": [
      "1.54 s ± 0 ns per loop (mean ± std. dev. of 1 run, 1 loop each)\n"
     ]
    }
   ],
   "source": [
    "t6 = %timeit -o -r 1 -n 1 count_triples6(10000)"
   ]
  },
  {
   "cell_type": "code",
   "execution_count": 29,
   "metadata": {},
   "outputs": [
    {
     "name": "stdout",
     "output_type": "stream",
     "text": [
      "17624x Speedup\n"
     ]
    }
   ],
   "source": [
    "# Das entspricht für N = 10000 ca einem Speedup gegenüber count_triples1 von...\n",
    "print(f\"{t1.average * 1e3 / t6.average:.0f}x Speedup\")"
   ]
  },
  {
   "cell_type": "markdown",
   "metadata": {},
   "source": [
    "# 😱😱😱"
   ]
  }
 ],
 "metadata": {
  "kernelspec": {
   "display_name": "Python 3",
   "language": "python",
   "name": "python3"
  },
  "language_info": {
   "codemirror_mode": {
    "name": "ipython",
    "version": 3
   },
   "file_extension": ".py",
   "mimetype": "text/x-python",
   "name": "python",
   "nbconvert_exporter": "python",
   "pygments_lexer": "ipython3",
   "version": "3.8.6"
  }
 },
 "nbformat": 4,
 "nbformat_minor": 4
}
