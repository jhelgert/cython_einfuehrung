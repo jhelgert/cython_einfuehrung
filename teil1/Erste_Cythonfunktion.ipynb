{
 "cells": [
  {
   "cell_type": "markdown",
   "metadata": {},
   "source": [
    "# Unsere erste Cythonfunktion\n",
    "\n",
    "Ihr könnt dieses Notebook verwenden um bereits vor dem Kurs zu testen, ob alles korrekt\n",
    "installiert wurde."
   ]
  },
  {
   "cell_type": "code",
   "execution_count": 2,
   "metadata": {},
   "outputs": [],
   "source": [
    "# Hiermit laden wir das Cythonmagiccommand '%%cython'.\n",
    "%load_ext cython"
   ]
  },
  {
   "cell_type": "code",
   "execution_count": 4,
   "metadata": {},
   "outputs": [],
   "source": [
    "%%cython\n",
    "\n",
    "def kleiner_gauss(N):\n",
    "    erg = 0\n",
    "    for i in range(N+1):\n",
    "        erg += i\n",
    "    return erg"
   ]
  },
  {
   "cell_type": "code",
   "execution_count": 6,
   "metadata": {},
   "outputs": [
    {
     "data": {
      "text/plain": [
       "5050"
      ]
     },
     "execution_count": 6,
     "metadata": {},
     "output_type": "execute_result"
    }
   ],
   "source": [
    "kleiner_gauss(100)"
   ]
  },
  {
   "cell_type": "markdown",
   "metadata": {},
   "source": [
    "Ihr bekommt 5050 raus? Dann habt ihr gerade eure erste Pythonfunktion mit **C**ython kompiliert und innerhalb von Python aufgerufen. 🤓"
   ]
  }
 ],
 "metadata": {
  "kernelspec": {
   "display_name": "Python 3",
   "language": "python",
   "name": "python3"
  },
  "language_info": {
   "codemirror_mode": {
    "name": "ipython",
    "version": 3
   },
   "file_extension": ".py",
   "mimetype": "text/x-python",
   "name": "python",
   "nbconvert_exporter": "python",
   "pygments_lexer": "ipython3",
   "version": "3.8.6"
  }
 },
 "nbformat": 4,
 "nbformat_minor": 4
}
