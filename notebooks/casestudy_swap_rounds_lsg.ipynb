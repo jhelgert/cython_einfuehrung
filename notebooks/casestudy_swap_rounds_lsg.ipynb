{
 "cells": [
  {
   "cell_type": "markdown",
   "metadata": {
    "tags": []
   },
   "source": [
    "# Lokale Suche für Round-Robin-Tournaments\n",
    "\n",
    "Der Spielplan in einer Sportliga lässt sich entweder als gerichteter Graph oder als Matrix darstellen.\n",
    "\n",
    "Beispiel:\n",
    "\n",
    "$$\n",
    "S = \n",
    "\\begin{pmatrix}\n",
    "\\phantom{-}4 &  \\phantom{-}3 & \\phantom{-}2 \\\\\n",
    "\\phantom{-}3 &  \\phantom{-}4 &  -1 \\\\\n",
    "-2 & -1 & -4 \\\\\n",
    "-1 & -2 & \\phantom{-}3\n",
    " \\end{pmatrix}\n",
    "$$\n",
    "\n",
    "- Team 1 spielt am ersten Spieltag zuhause gegen Team 4.\n",
    "- Team 4 spielt am ersten Spieltag auswärts gegen Team 1.\n",
    "\n",
    "Aus jedem Spielplan lassen sich durch bestimmte Vertauschungen neue (gültige) Spielpläne erzeugen.\n"
   ]
  },
  {
   "cell_type": "code",
   "execution_count": null,
   "metadata": {},
   "outputs": [],
   "source": [
    "%load_ext line_profiler"
   ]
  },
  {
   "cell_type": "code",
   "execution_count": null,
   "metadata": {
    "tags": []
   },
   "outputs": [],
   "source": [
    "import numpy as np\n",
    "\n",
    "S = np.array([\n",
    "       [ -3,  12,  -4,  11,   9,  -8,   6,  -7,  10,  -5,   2],\n",
    "       [  9,  -8,   6,  -7,  10,  -5, -11,   3, -12,   4,  -1],\n",
    "       [  1,  -9,   8,  -6,   7, -10,   5,  -2, -11,  12,  -4],\n",
    "       [-12,  11,   1,  -9,   8,  -6,   7, -10,   5,  -2,   3],\n",
    "       [  8,  -6,   7, -10, -11,   2,  -3,  12,  -4,   1,  -9],\n",
    "       [-10,   5,  -2,   3, -12,   4,  -1,   9,  -8, -11,   7],\n",
    "       [-11,  10,  -5,   2,  -3,  12,  -4,   1,  -9,   8,  -6],\n",
    "       [ -5,   2,  -3,  12,  -4,   1,  -9,  11,   6,  -7,  10],\n",
    "       [ -2,   3, -12,   4,  -1,  11,   8,  -6,   7, -10,   5],\n",
    "       [  6,  -7, -11,   5,  -2,   3, -12,   4,  -1,   9,  -8],\n",
    "       [  7,  -4,  10,  -1,   5,  -9,   2,  -8,   3,   6, -12],\n",
    "       [  4,  -1,   9,  -8,   6,  -7,  10,  -5,   2,  -3,  11]])"
   ]
  },
  {
   "cell_type": "code",
   "execution_count": null,
   "metadata": {},
   "outputs": [],
   "source": [
    "def PartialSwapRounds(S, i, s1, s2):\n",
    "    \"\"\" Tauscht für Team i die Spieltage s1 und s2 und führt Reperaturvertauschungen durch,\n",
    "    so dass der Spielplan zulässig bleibt \"\"\"\n",
    "    Sneu = np.copy(S)\n",
    "    L = [i]\n",
    "    K = [abs(S[i - 1, s1 - 1]), abs(S[i - 1, s2 - 1])]\n",
    "    # Finde nun alle Zeilen, die getauscht werden müssen, damit es ein gültiges SRR bleibt\n",
    "    # Die entsprechenden Zeilen werden in L gespeichert\n",
    "    while len(K) != 0:\n",
    "        kandidat = K[0]\n",
    "        K.remove(kandidat)\n",
    "        if kandidat not in L:\n",
    "            L.append(kandidat)\n",
    "        links = abs(S[kandidat - 1, s1 - 1])\n",
    "        rechts = abs(S[kandidat - 1, s2 - 1])\n",
    "        if links not in L and links not in K:\n",
    "            K.append(links)\n",
    "        if rechts not in L and rechts not in K:\n",
    "            K.append(rechts)\n",
    "    # Tausche nun die entsprechenden Zeilen\n",
    "    for t in L:\n",
    "        Sneu[t - 1, [s1 - 1, s2 - 1]] = S[t - 1, [s2 - 1, s1 - 1]]\n",
    "    return Sneu"
   ]
  },
  {
   "cell_type": "code",
   "execution_count": null,
   "metadata": {},
   "outputs": [],
   "source": [
    "S2 = PartialSwapRounds(S, 1, 1, 2)\n",
    "S2"
   ]
  },
  {
   "cell_type": "code",
   "execution_count": null,
   "metadata": {},
   "outputs": [],
   "source": [
    "%timeit PartialSwapRounds(S, 1, 1, 2)"
   ]
  },
  {
   "cell_type": "code",
   "execution_count": null,
   "metadata": {},
   "outputs": [],
   "source": [
    "%lprun -f PartialSwapRounds PartialSwapRounds(S, 1, 1, 2)"
   ]
  },
  {
   "cell_type": "markdown",
   "metadata": {},
   "source": [
    "# Cython"
   ]
  },
  {
   "cell_type": "markdown",
   "metadata": {},
   "source": [
    "### Version 1"
   ]
  },
  {
   "cell_type": "code",
   "execution_count": null,
   "metadata": {},
   "outputs": [],
   "source": [
    "%load_ext cython"
   ]
  },
  {
   "cell_type": "code",
   "execution_count": null,
   "metadata": {},
   "outputs": [],
   "source": [
    "%%cython -a -f --cplus -c=-O3 -c=-march=native -c=-Wno-deprecated-declarations -c=-Wno-#warnings\n",
    "\n",
    "from cython cimport wraparound, boundscheck\n",
    "import numpy as np\n",
    "cimport numpy as np\n",
    "\n",
    "@wraparound(False)\n",
    "@boundscheck(False)\n",
    "cpdef PartialSwapRounds_cy1(long[:, ::1] Sin, int i, int s1, int s2):\n",
    "    cdef long[:, ::1] S = Sin.copy()\n",
    "    cdef int tmp, kandidat, links, rechts, t\n",
    "    cdef list L = [i]\n",
    "    cdef list K = [abs(S[i - 1, s1 - 1]), abs(S[i - 1, s2 - 1])]\n",
    "    while len(K) != 0:\n",
    "        kandidat = K[0]\n",
    "        K.remove(kandidat)\n",
    "        if kandidat not in L:\n",
    "            L.append(kandidat)\n",
    "        links = abs(S[kandidat - 1, s1 - 1])\n",
    "        rechts = abs(S[kandidat - 1, s2 - 1])\n",
    "        if links not in L and links not in K:\n",
    "            K.append(links)\n",
    "        if rechts not in L and rechts not in K:\n",
    "            K.append(rechts)\n",
    "    # Tausche nun die entsprechenden Zeilen\n",
    "    for t in L:\n",
    "        tmp = S[t-1,s1-1]\n",
    "        S[t-1,s1-1] = S[t-1,s2-1]\n",
    "        S[t-1,s2-1] = tmp\n",
    "    return np.asarray(S)"
   ]
  },
  {
   "cell_type": "code",
   "execution_count": null,
   "metadata": {},
   "outputs": [],
   "source": [
    "%timeit PartialSwapRounds_cy1(S, 1, 1, 2)"
   ]
  },
  {
   "cell_type": "markdown",
   "metadata": {},
   "source": [
    "### Version 2"
   ]
  },
  {
   "cell_type": "code",
   "execution_count": null,
   "metadata": {},
   "outputs": [],
   "source": [
    "%%cython -a -f --cplus -c=-O3 -c=-march=native -c=-Wno-deprecated-declarations -c=-Wno-#warnings\n",
    "\n",
    "from libc.math cimport abs as abs\n",
    "from libcpp.vector cimport vector\n",
    "from libcpp.algorithm cimport find\n",
    "from cython cimport wraparound, boundscheck\n",
    "import numpy as np\n",
    "cimport numpy as np\n",
    "\n",
    "@wraparound(False)\n",
    "@boundscheck(False)\n",
    "cpdef PartialSwapRounds_cy2(long[:, ::1] Sin, int i, int s1, int s2):\n",
    "    cdef long[:, ::1] S = Sin.copy()\n",
    "    cdef vector[int] L = vector[int](1)\n",
    "    cdef vector[int] K = vector[int](2)\n",
    "    cdef int kandidat, links, rechts, t, tmp, N\n",
    "    cdef unsigned int ii = 0\n",
    "    \n",
    "    L[0] = i\n",
    "    K[0] = abs(S[i-1,s1-1])\n",
    "    K[1] = abs(S[i-1,s2-1])\n",
    "    \n",
    "    while ii < K.size():\n",
    "        kandidat = K[ii]\n",
    "        # if kandidat not in L:\n",
    "        if find(L.begin(), L.end(), kandidat) == L.end():\n",
    "            L.push_back(kandidat)\n",
    "        links = abs(S[kandidat - 1, s1 - 1])\n",
    "        rechts = abs(S[kandidat - 1, s2 - 1])\n",
    "        # if links not in L and links not in K\n",
    "        if find(L.begin(), L.end(), links) == L.end() and find(K.begin(), K.end(), links) == K.end():\n",
    "            K.push_back(links)\n",
    "        # if rechts not in L and rechts not in K\n",
    "        if find(L.begin(), L.end(), rechts) == L.end() and find(K.begin(), K.end(), rechts) == K.end():\n",
    "            K.push_back(rechts)\n",
    "        ii += 1\n",
    "    # Tausche nun die entsprechenden Zeilen\n",
    "    for t in L:\n",
    "        tmp = S[t-1, s1-1]\n",
    "        S[t-1,s1-1] = S[t-1,s2-1]\n",
    "        S[t-1,s2-1] = tmp\n",
    "    return np.asarray(S)"
   ]
  },
  {
   "cell_type": "code",
   "execution_count": null,
   "metadata": {},
   "outputs": [],
   "source": [
    "%timeit PartialSwapRounds_cy2(S, 1, 1, 2)"
   ]
  },
  {
   "cell_type": "code",
   "execution_count": null,
   "metadata": {},
   "outputs": [],
   "source": []
  }
 ],
 "metadata": {
  "kernelspec": {
   "display_name": "Python 3",
   "language": "python",
   "name": "python3"
  },
  "language_info": {
   "codemirror_mode": {
    "name": "ipython",
    "version": 3
   },
   "file_extension": ".py",
   "mimetype": "text/x-python",
   "name": "python",
   "nbconvert_exporter": "python",
   "pygments_lexer": "ipython3",
   "version": "3.8.12"
  }
 },
 "nbformat": 4,
 "nbformat_minor": 4
}
