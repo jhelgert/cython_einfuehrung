{
 "cells": [
  {
   "cell_type": "markdown",
   "metadata": {
    "tags": []
   },
   "source": [
    "# Drehwinkel einer Punktwolke\n",
    "\n",
    "Gegeben sind für $k = 1, 2$ die Mengen $$P_k = \\{ (x^{(k)}_1, y^{(k)}_1), \\ldots, (x^{(k)}_N, y^{(k)}_N)\\}$$\n",
    "von Punkten $(x^{(k)}_i, y^{(k)}_i) \\in \\mathbb{R}^2$, welche als Matrizen gespeichert werden, d.h. $P_1, P_2 \\in \\mathbb{R}^{N \\times 2}$. Zusätzlich\n",
    "ist die Drehungsmatrix\n",
    "\n",
    "$$\n",
    "    M(\\alpha) = \\begin{pmatrix} \n",
    "    \\cos{(\\alpha)} & -\\sin({\\alpha}) \\\\ \n",
    "    \\sin{(\\alpha)} & \\cos{(\\alpha)}\n",
    "    \\end{pmatrix}\n",
    "$$\n",
    "\n",
    "gegeben, wobei $0 \\leq \\alpha \\leq 2\\pi$ der Drehwinkel ist.\n",
    "\n",
    "Gesucht ist der Drehwinkel $\\alpha^* = \\arg \\min_{\\alpha} f(\\alpha)$, wobei\n",
    "$$\n",
    "f(\\alpha) \n",
    "= \\frac{1}{N} \\mathrm{Tr}{\\left( G G^\\top\\right)} \n",
    "= \\frac{1}{N} \\sum_{i = 1}^{N} g_{i1}^2 + g_{i2}^2.\n",
    "$$\n",
    "mit $G = P_2 - P_1 M(\\alpha)^\\top$. Dazu kann z.B. `scipy.optimize.minimize_scalar` verwendet werden, welches einige Ableitungsfreie Verfahren enthält. Die Laufzeit zum Berechnen von $\\alpha^*$ hängt somit entscheidend davon ab, wie schnell wir $f$ auswerten können.\n",
    "Wir nehmen an, dass das obige Problem als laufzeitkritischer Teil eines größeren Algorithmus innerhalb einer Schleife ggf. 100 000\n",
    "mal gelöst werden muss."
   ]
  },
  {
   "cell_type": "code",
   "execution_count": null,
   "metadata": {},
   "outputs": [],
   "source": [
    "%load_ext cython"
   ]
  },
  {
   "cell_type": "code",
   "execution_count": null,
   "metadata": {},
   "outputs": [],
   "source": [
    "%load_ext line_profiler"
   ]
  },
  {
   "cell_type": "code",
   "execution_count": null,
   "metadata": {},
   "outputs": [],
   "source": [
    "# Gegebene Punkte:\n",
    "\n",
    "import numpy as np\n",
    "\n",
    "# generate some data for demonstration purposes\n",
    "# points in each point cloud are ordered by correspondence\n",
    "num_points = 500\n",
    "\n",
    "distance = np.random.rand(num_points) * 3\n",
    "radii = np.random.rand(num_points) * 2*np.pi\n",
    "pc1 = distance[:, None] * np.stack([np.cos(radii), np.sin(radii)], axis=1)\n",
    "\n",
    "distance = np.random.rand(num_points) * 3\n",
    "radii = np.random.rand(num_points) * 2*np.pi\n",
    "pc2 = distance[:, None] * np.stack([np.cos(radii), np.sin(radii)], axis=1)"
   ]
  },
  {
   "cell_type": "markdown",
   "metadata": {},
   "source": [
    "Gegeben ist folgende Implementierung der Zielfunktion. Was ist hier ineffizient? Was könnte beschleunigt werden?"
   ]
  },
  {
   "cell_type": "code",
   "execution_count": null,
   "metadata": {},
   "outputs": [],
   "source": [
    "from math import sin, cos\n",
    "\n",
    "# Zielfunktion\n",
    "def score(alpha, pc1, pc2):\n",
    "    rot_matrix = np.array([\n",
    "        [cos(alpha), -sin(alpha)],\n",
    "        [sin(alpha), cos(alpha)]\n",
    "    ])\n",
    "    pc1_rotated = pc1 @ rot_matrix.T\n",
    "\n",
    "    sum_of_squares = np.sum((pc2 - pc1_rotated)**2, axis=1)\n",
    "    mse = np.mean(sum_of_squares)\n",
    "\n",
    "    return mse"
   ]
  },
  {
   "cell_type": "code",
   "execution_count": null,
   "metadata": {},
   "outputs": [],
   "source": [
    "score(0.25, pc1, pc2)"
   ]
  },
  {
   "cell_type": "code",
   "execution_count": null,
   "metadata": {},
   "outputs": [],
   "source": [
    "%lprun -f score score(0.5, pc1, pc2)"
   ]
  },
  {
   "cell_type": "markdown",
   "metadata": {
    "tags": []
   },
   "source": [
    "# Cython"
   ]
  },
  {
   "cell_type": "code",
   "execution_count": null,
   "metadata": {},
   "outputs": [],
   "source": [
    "%%cython -a -f -c=-O3 -c=-march=native -c=-Wno-deprecated-declarations -c=-Wno-#warnings\n",
    "\n",
    "from math import cos, sin\n",
    "cimport numpy as np\n",
    "import numpy as np\n",
    "from cython cimport wraparound, boundscheck\n",
    "\n",
    "@wraparound(False)\n",
    "@boundscheck(False)\n",
    "def score2(double alpha, double[:, ::1] pc1, double[:, ::1] pc2):\n",
    "    cdef int i, N = pc1.shape[0]\n",
    "    cdef double[:, ::1] pc1rot\n",
    "    cdef double mse, diff1, diff2\n",
    "    \n",
    "    rot_matrixT = np.array([[cos(alpha), sin(alpha)],[-sin(alpha), cos(alpha)]])\n",
    "    pc1rot = pc1 @ rot_matrixT\n",
    "    \n",
    "    #sum_of_squares = np.sum((pc2 - pc1_rotated)**2, axis=1)\n",
    "    #mse = np.mean(sum_of_squares)\n",
    "\n",
    "    for i in range(N):\n",
    "        diff1 = pc2[i,0] - pc1rot[i,0]\n",
    "        diff2 = pc2[i,1] - pc1rot[i,1]\n",
    "        mse  += diff1*diff1 + diff2*diff2\n",
    "    \n",
    "    return mse / N"
   ]
  },
  {
   "cell_type": "code",
   "execution_count": null,
   "metadata": {},
   "outputs": [],
   "source": [
    "score2(0.25, pc1, pc2)"
   ]
  },
  {
   "cell_type": "code",
   "execution_count": null,
   "metadata": {},
   "outputs": [],
   "source": [
    "%timeit score(0.25, pc1, pc2)"
   ]
  },
  {
   "cell_type": "code",
   "execution_count": null,
   "metadata": {},
   "outputs": [],
   "source": [
    "%timeit score2(0.25, pc1, pc2)"
   ]
  },
  {
   "cell_type": "code",
   "execution_count": null,
   "metadata": {},
   "outputs": [],
   "source": [
    "%%cython -a -f -c=-O3 -c=-march=native -c=-Wno-deprecated-declarations -c=-Wno-#warnings\n",
    "\n",
    "from libc.math cimport cos, sin\n",
    "cimport numpy as np\n",
    "import numpy as np\n",
    "from cython cimport wraparound, boundscheck\n",
    "\n",
    "@wraparound(False)\n",
    "@boundscheck(False)\n",
    "cpdef double score3(double alpha, double[:, ::1] pc1, double[:, ::1] pc2):\n",
    "    cdef int i\n",
    "    cdef int N = pc1.shape[0]\n",
    "    cdef double[:, ::1] rot_matrixT\n",
    "    cdef double diff1\n",
    "    cdef double diff2\n",
    "    cdef double mse = 0.0\n",
    "    rot_matrixT = np.array([[cos(alpha), sin(alpha)],[-sin(alpha), cos(alpha)]])\n",
    "\n",
    "    for i in range(N):\n",
    "        diff1 = pc2[i,0] - (pc1[i,0]*rot_matrixT[0,0] + pc1[i,1]*rot_matrixT[1,0])\n",
    "        diff2 = pc2[i,1] - (pc1[i,0]*rot_matrixT[0,1] + pc1[i,1]*rot_matrixT[1,1])\n",
    "        mse  += diff1*diff1 + diff2*diff2\n",
    "    return mse / N"
   ]
  },
  {
   "cell_type": "code",
   "execution_count": null,
   "metadata": {},
   "outputs": [],
   "source": [
    "score3(0.5, pc1, pc2)"
   ]
  },
  {
   "cell_type": "code",
   "execution_count": null,
   "metadata": {},
   "outputs": [],
   "source": [
    "%timeit score3(0.5, pc1, pc2)"
   ]
  },
  {
   "cell_type": "code",
   "execution_count": null,
   "metadata": {},
   "outputs": [],
   "source": [
    "%%cython -a -f -c=-O3 -c=-march=native -c=-Wno-deprecated-declarations -c=-Wno-#warnings\n",
    "\n",
    "from libc.math cimport cos, sin\n",
    "cimport numpy as np\n",
    "import numpy as np\n",
    "from cython cimport wraparound, boundscheck\n",
    "\n",
    "@wraparound(False)\n",
    "@boundscheck(False)\n",
    "cpdef double score4(double alpha, double[:, ::1] pc1, double[:, ::1] pc2):\n",
    "    cdef int i\n",
    "    cdef int N = pc1.shape[0]\n",
    "    cdef double diff1 = 0.0\n",
    "    cdef double diff2 = 0.0\n",
    "    cdef double   mse = 0.0\n",
    "    cdef double  rmT00 = cos(alpha)\n",
    "    cdef double  rmT01 = sin(alpha)\n",
    "    cdef double  rmT10 = -rmT01\n",
    "    cdef double  rmT11 = rmT00\n",
    "\n",
    "    for i in range(N):\n",
    "        diff1 = pc2[i,0] - (pc1[i,0]*rmT00 + pc1[i,1]*rmT10)\n",
    "        diff2 = pc2[i,1] - (pc1[i,0]*rmT01 + pc1[i,1]*rmT11)\n",
    "        mse  += diff1*diff1 + diff2*diff2\n",
    "    return mse / N"
   ]
  },
  {
   "cell_type": "code",
   "execution_count": null,
   "metadata": {},
   "outputs": [],
   "source": [
    "%timeit score4(0.5, pc1, pc2)"
   ]
  }
 ],
 "metadata": {
  "kernelspec": {
   "display_name": "Python 3",
   "language": "python",
   "name": "python3"
  },
  "language_info": {
   "codemirror_mode": {
    "name": "ipython",
    "version": 3
   },
   "file_extension": ".py",
   "mimetype": "text/x-python",
   "name": "python",
   "nbconvert_exporter": "python",
   "pygments_lexer": "ipython3",
   "version": "3.8.12"
  }
 },
 "nbformat": 4,
 "nbformat_minor": 4
}
